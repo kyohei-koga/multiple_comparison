{
 "cells": [
  {
   "cell_type": "markdown",
   "metadata": {},
   "source": [
    "### テューキーの方法の例"
   ]
  },
  {
   "cell_type": "code",
   "execution_count": 8,
   "metadata": {},
   "outputs": [],
   "source": [
    "from statsmodels.stats.multicomp import pairwise_tukeyhsd\n",
    "import pandas as pd\n",
    "import numpy as np"
   ]
  },
  {
   "cell_type": "code",
   "execution_count": 4,
   "metadata": {},
   "outputs": [
    {
     "name": "stdout",
     "output_type": "stream",
     "text": [
      "Help on function pairwise_tukeyhsd in module statsmodels.stats.multicomp:\n",
      "\n",
      "pairwise_tukeyhsd(endog, groups, alpha=0.05)\n",
      "    calculate all pairwise comparisons with TukeyHSD confidence intervals\n",
      "    \n",
      "    this is just a wrapper around tukeyhsd method of MultiComparison\n",
      "    \n",
      "    Parameters\n",
      "    ----------\n",
      "    endog : ndarray, float, 1d\n",
      "        response variable\n",
      "    groups : ndarray, 1d\n",
      "        array with groups, can be string or integers\n",
      "    alpha : float\n",
      "        significance level for the test\n",
      "    \n",
      "    Returns\n",
      "    -------\n",
      "    results : TukeyHSDResults instance\n",
      "        A results class containing relevant data and some post-hoc\n",
      "        calculations\n",
      "    \n",
      "    See Also\n",
      "    --------\n",
      "    MultiComparison\n",
      "    tukeyhsd\n",
      "    statsmodels.sandbox.stats.multicomp.TukeyHSDResults\n",
      "\n"
     ]
    }
   ],
   "source": [
    "help(pairwise_tukeyhsd)"
   ]
  },
  {
   "cell_type": "code",
   "execution_count": 18,
   "metadata": {},
   "outputs": [],
   "source": [
    "# データ入力\n",
    "data_a1 = np.array([14, 15, 14, 16, 15, 17, 17])\n",
    "data_a2 = np.array([17, 16, 17, 16, 15, 18, 19, 15])\n",
    "data_a3 = np.array([18, 19, 20, 19, 17, 17])\n",
    "data_a4 = np.array([20, 21, 19, 20, 19, 22, 20])\n",
    "data_a5 = np.array([19, 20, 19, 17, 17, 17, 18])"
   ]
  },
  {
   "cell_type": "code",
   "execution_count": 19,
   "metadata": {},
   "outputs": [],
   "source": [
    "# 不格好ですが。\n",
    "label_a1 = np.repeat('A', len(data_a1))\n",
    "label_a2 = np.repeat('B', len(data_a2))\n",
    "label_a3 = np.repeat('C', len(data_a3))\n",
    "label_a4 = np.repeat('D', len(data_a4))\n",
    "label_a5 = np.repeat('E', len(data_a5))"
   ]
  },
  {
   "cell_type": "code",
   "execution_count": 22,
   "metadata": {},
   "outputs": [],
   "source": [
    "data = np.r_[data_a1, data_a2, data_a3, data_a4, data_a5]\n",
    "label = np.r_[label_a1, label_a2, label_a3, label_a4, label_a5]"
   ]
  },
  {
   "cell_type": "code",
   "execution_count": 24,
   "metadata": {},
   "outputs": [
    {
     "name": "stdout",
     "output_type": "stream",
     "text": [
      "Multiple Comparison of Means - Tukey HSD,FWER=0.05\n",
      "=============================================\n",
      "group1 group2 meandiff  lower   upper  reject\n",
      "---------------------------------------------\n",
      "  A      B     1.1964  -0.6753  3.0681 False \n",
      "  A      C     2.9048   0.8928  4.9168  True \n",
      "  A      D     4.7143   2.7812  6.6474  True \n",
      "  A      E     2.7143   0.7812  4.6474  True \n",
      "  B      C     1.7083  -0.2448  3.6614 False \n",
      "  B      D     3.5179   1.6462  5.3895  True \n",
      "  B      E     1.5179  -0.3538  3.3895 False \n",
      "  C      D     1.8095  -0.2025  3.8215 False \n",
      "  C      E    -0.1905  -2.2025  1.8215 False \n",
      "  D      E      -2.0   -3.9331 -0.0669  True \n",
      "---------------------------------------------\n"
     ]
    }
   ],
   "source": [
    "print(pairwise_tukeyhsd(data, label))"
   ]
  },
  {
   "cell_type": "markdown",
   "metadata": {},
   "source": [
    "- 結果は教科書に乗っているのと同じになりました。\n",
    "- データを作るのがめんどくさい。\n",
    "- lower, upperが信頼区間のようです。\n",
    "- meandiffではグループ2からグループ1を引いているようです。"
   ]
  },
  {
   "cell_type": "code",
   "execution_count": null,
   "metadata": {},
   "outputs": [],
   "source": []
  }
 ],
 "metadata": {
  "kernelspec": {
   "display_name": "Python [conda root]",
   "language": "python",
   "name": "conda-root-py"
  },
  "language_info": {
   "codemirror_mode": {
    "name": "ipython",
    "version": 2
   },
   "file_extension": ".py",
   "mimetype": "text/x-python",
   "name": "python",
   "nbconvert_exporter": "python",
   "pygments_lexer": "ipython2",
   "version": "2.7.14"
  }
 },
 "nbformat": 4,
 "nbformat_minor": 2
}
